{
 "cells": [
  {
   "cell_type": "markdown",
   "id": "fd745d34-ace0-483f-a10d-a434cfdb7ede",
   "metadata": {},
   "source": [
    "# **5400 Term Project** \n",
    "\n",
    "## Ingredients - Recipe Converter\n"
   ]
  },
  {
   "cell_type": "markdown",
   "id": "5e63cf59-c3c2-4454-8519-fe1b45804f1c",
   "metadata": {},
   "source": [
    "Group 4: Jiarong Zhang, Weiyi Xia, Shuning Xu, Shiyu Hua, Zeying Liu"
   ]
  },
  {
   "cell_type": "markdown",
   "id": "663f41be-f043-45b9-84e6-a409dc58ca00",
   "metadata": {},
   "source": [
    "### Background"
   ]
  },
  {
   "cell_type": "markdown",
   "id": "c6f45fc5-4e27-4519-b615-8f5d22208cb8",
   "metadata": {},
   "source": [
    "Our group aimed to produce a recipe search engine so that users can find the desire recipe and its relavent information based solely on ingredients used.\n",
    "\n",
    "Our goal:\n",
    "\n",
    "- Time Control \n",
    "- Plan, cook and share meals\n",
    "- Discover healthy and economical eating habits\n",
    "- Reduce food wastage\n",
    "\n",
    "Our target user:\n",
    "\n",
    "- People who have lots of ingredients in the refrigerator but can’t decide what to do today\n",
    "- People who don’t know the formal name of specific dishes but only have some ingredients\n",
    "- People who need to eliminate all ingredients left in the refrigerator ASAP\n",
    "- People who have fitness or fat loss goals and pay attention to balanced nutrition\n"
   ]
  },
  {
   "cell_type": "markdown",
   "id": "95f49f1d-27db-4537-836e-355a7bb0a0ac",
   "metadata": {},
   "source": [
    "### Load the data source"
   ]
  },
  {
   "cell_type": "code",
   "execution_count": 2,
   "id": "f49fec5c-105b-4de0-ba7f-f6099482f00b",
   "metadata": {},
   "outputs": [],
   "source": [
    "import pandas as pd\n",
    "import numpy as np\n",
    "import json\n",
    "from neo4j import GraphDatabase\n",
    "from elasticsearch_dsl import connections\n",
    "from elasticsearch.helpers import bulk\n",
    "from elasticsearch_dsl import Search\n",
    "from pprint import pprint\n",
    "import string\n",
    "from flask import Flask, request, render_template"
   ]
  },
  {
   "cell_type": "code",
   "execution_count": 3,
   "id": "671d1cac-af87-4b45-b03b-a87bbf6be44b",
   "metadata": {},
   "outputs": [
    {
     "name": "stdout",
     "output_type": "stream",
     "text": [
      "There are 49698 records in the data source.\n"
     ]
    }
   ],
   "source": [
    "with open('C:/Users/lilyh/Desktop/second semester/5400/group project/data.json') as f:\n",
    "    records = json.load(f)\n",
    "print('There are', len(records), 'records in the data source.')"
   ]
  },
  {
   "cell_type": "code",
   "execution_count": 4,
   "id": "a7e4d71a-8bab-4f24-b54f-583fa02c4522",
   "metadata": {},
   "outputs": [
    {
     "name": "stdout",
     "output_type": "stream",
     "text": [
      "{'Calcium_mg': 11.0,\n",
      " 'Calories from Fat_kcal': 212.0,\n",
      " 'Calories_kcal': 308.0,\n",
      " 'Carbohydrates_g': 1.8,\n",
      " 'Cholesterol_mg': 62.0,\n",
      " 'Cook': '2h45m',\n",
      " 'Dietary Fiber_g': 0.5,\n",
      " 'Directions': 'Preheat oven to 200 degrees F (95 degrees C).;Season pork '\n",
      "               'belly with paprika, salt, and pepper. Tightly wrap pork twice '\n",
      "               'in heavy-duty aluminum foil. Place on a baking sheet and bake '\n",
      "               'in the preheated oven for 2 1/2 hours. Turn off the oven; let '\n",
      "               'pork rest in the oven for 1 hour. Remove meat from oven, '\n",
      "               'leaving it wrapped in aluminum foil, and refrigerate at least '\n",
      "               '8 hours or overnight.;Remove pork from foil and slice across '\n",
      "               'the grain in 1/4-inch thick slices. Working in batches, cook '\n",
      "               'pork in a non-stick skillet over medium heat until golden and '\n",
      "               'crisped, 6 to 8 minutes per slice.',\n",
      " 'Fat_g': 23.6,\n",
      " 'Folate_mcg': 2.0,\n",
      " 'Iron_mg': 1.0,\n",
      " 'Magnesium_mg': 22.0,\n",
      " 'Niacin Equivalents_mg': 9,\n",
      " 'Potassium_mg': 347.0,\n",
      " 'Prep': '5m',\n",
      " 'Protein_g': 21.0,\n",
      " 'Ready_In': '11h50m',\n",
      " 'Saturated Fat_g': 7.7,\n",
      " 'Sodium_mg': 2017.0,\n",
      " 'Sugars_g': 0.1,\n",
      " 'Thiamin_mg': 0.0,\n",
      " 'Vitamin A - IU_IU': 474.0,\n",
      " 'Vitamin B6_mg': 0.0,\n",
      " 'Vitamin C_mg': 0,\n",
      " 'aver_rate': 5.0,\n",
      " 'image_url': 'https://images.media-allrecipes.com/userphotos/720x405/876328.jpg',\n",
      " 'ingredients': 'pork belly,smoked paprika,kosher salt,ground black pepper',\n",
      " 'recipe_id': 222388,\n",
      " 'recipe_name': 'Homemade Bacon',\n",
      " 'review_nums': 3,\n",
      " 'reviews': \"{8542392: {'rating': 5, 'followersCount': 11, 'madeRecipesCount': \"\n",
      "            \"18, 'favoritesCount': 200, 'dateLastModified': \"\n",
      "            'u\\'2017-04-22T12:46:43.663\\', \\'text\\': u\"Best breakfast ever! I '\n",
      "            'ran out of paprika while seasoning, so I used garlic piercer on '\n",
      "            \"the other half of the batch. Very good! Can't wait to make it \"\n",
      "            'again... and figure out how to use the drippings!\", '\n",
      "            \"'followingCount': 0}, 11174581: {'rating': 5, 'followersCount': \"\n",
      "            \"8, 'madeRecipesCount': 55, 'favoritesCount': 101, \"\n",
      "            \"'dateLastModified': u'2013-06-20T15:50:25.96', 'text': \"\n",
      "            'u\"Awesome!\\\\nIt\\'s amazing.\", \\'followingCount\\': 0}, 8262477: '\n",
      "            \"{'rating': 5, 'followersCount': 0, 'madeRecipesCount': 1, \"\n",
      "            \"'favoritesCount': 52, 'dateLastModified': \"\n",
      "            \"u'2015-02-14T07:27:51.307', 'text': u'The flavors came together \"\n",
      "            'well and it really was simple to prepare. My husband and I both '\n",
      "            \"enjoyed it!', 'followingCount': 0}}\\n\"}\n"
     ]
    }
   ],
   "source": [
    "# display the first record\n",
    "pprint(records[0])"
   ]
  },
  {
   "cell_type": "markdown",
   "id": "95dd4b1c-c36c-4300-a6ec-050d11543c9c",
   "metadata": {},
   "source": [
    "### Neo4j Graphic Database"
   ]
  },
  {
   "cell_type": "markdown",
   "id": "94159d39-0729-4c22-b697-0f9941eb55ce",
   "metadata": {},
   "source": [
    "##### connect to the database"
   ]
  },
  {
   "cell_type": "code",
   "execution_count": 5,
   "id": "7fcd9f1d-7f32-474e-9b9d-d88a38e7ff0f",
   "metadata": {},
   "outputs": [
    {
     "name": "stdout",
     "output_type": "stream",
     "text": [
      "Successfully connected to Neo4j!\n"
     ]
    }
   ],
   "source": [
    "database_name = \"neo4j\"\n",
    "username = \"neo4j\"\n",
    "password = \"apan5400\"\n",
    "uri = \"bolt://localhost:7687/\" + database_name\n",
    "\n",
    "driver = GraphDatabase.driver(uri, auth=(username, password))\n",
    "session = driver.session()\n",
    "\n",
    "print(\"Successfully connected to Neo4j!\")"
   ]
  },
  {
   "cell_type": "code",
   "execution_count": 6,
   "id": "6cd800d4-54e4-40cf-9143-99c15e260834",
   "metadata": {},
   "outputs": [
    {
     "name": "stdout",
     "output_type": "stream",
     "text": [
      "All ingredients and recipes are imported from the dataframe!\n"
     ]
    }
   ],
   "source": [
    "query = (\n",
    "    \"LOAD CSV WITH HEADERS FROM 'file:///Users/lilyh/Desktop/ingre_recipe.csv' AS row \"\n",
    "     \"MERGE (r:Recipe {recipeId: row.recipe_id})\"\n",
    "     \"MERGE (i:Ingredient {ingredientName: row.ingredient})\"\n",
    "     \"MERGE (r)-[:LINKED_TO]->(i)\"\n",
    "    )\n",
    "result = session.run(query)\n",
    "print(\"All ingredients and recipes are imported from the dataframe!\")"
   ]
  },
  {
   "cell_type": "markdown",
   "id": "984f96b7-0222-4b1b-8cc8-d71d111a9f3e",
   "metadata": {},
   "source": [
    "##### Use neo4j to query individual ingredient and return a list of recipe_id connection "
   ]
  },
  {
   "cell_type": "code",
   "execution_count": 7,
   "id": "e48c61ae-0b72-456b-a65a-97c1e63b428b",
   "metadata": {},
   "outputs": [],
   "source": [
    "class MyTemplate(string.Template):\n",
    "    delimiter = '%'\n",
    "    idpattern = '[a-z]+'\n",
    "\n",
    "def queryData(userInput):\n",
    "    templateText =  '''\n",
    "      MATCH (ingredient:Ingredient {ingredientName: '%input'})-[:LINKED_TO]-(recipe:Recipe) RETURN recipe.recipeId as recipeId\n",
    "    '''\n",
    "        \n",
    "    t = MyTemplate(templateText)\n",
    "    d = {'input': userInput}\n",
    "    stmt = (t.safe_substitute(d))\n",
    "    res = session.run(stmt)\n",
    "    \n",
    "    recipe_id_2 = []\n",
    "    for record in res:\n",
    "        recipe_id_2.append(int(record[\"recipeId\"]))\n",
    "    \n",
    "    return recipe_id_2"
   ]
  },
  {
   "cell_type": "markdown",
   "id": "5ba1cfb1-c993-4ac3-952f-df4338311dc0",
   "metadata": {},
   "source": [
    "##### show the first 5 recipe_id use chicken wings as one of the ingredients"
   ]
  },
  {
   "cell_type": "code",
   "execution_count": 96,
   "id": "d3393e92-81e9-4d62-9bc9-b0489c2b71aa",
   "metadata": {},
   "outputs": [
    {
     "data": {
      "text/plain": [
       "[25187, 229774, 256752, 60617, 233334]"
      ]
     },
     "execution_count": 96,
     "metadata": {},
     "output_type": "execute_result"
    }
   ],
   "source": [
    "queryData('chicken wings')[0:5]"
   ]
  },
  {
   "cell_type": "markdown",
   "id": "663400cb-297a-4afe-bb6b-12fae6938fa8",
   "metadata": {},
   "source": [
    "### Elasticsearch querying"
   ]
  },
  {
   "cell_type": "markdown",
   "id": "9ad182db-a28c-4372-8ffb-1f1a2555681b",
   "metadata": {},
   "source": [
    "##### connect to elasticsearch and bulk index records"
   ]
  },
  {
   "cell_type": "code",
   "execution_count": 9,
   "id": "2b83dd1f-d328-4d54-b2ac-583f658e1bbb",
   "metadata": {},
   "outputs": [],
   "source": [
    "client = connections.create_connection(hosts=[\"localhost\"],\n",
    "                     port=9200, \n",
    "                     http_auth=('elastic', 'elastic'), \n",
    "                     ca_certs='C:/Users/lilyh/http_ca.crt',\n",
    "                     use_ssl=True, \n",
    "                     verify_certs=True)"
   ]
  },
  {
   "cell_type": "code",
   "execution_count": 10,
   "id": "615d7c26-72d9-4422-a4fa-3b7b0cd72f36",
   "metadata": {},
   "outputs": [],
   "source": [
    "resp = bulk(client, records, index = \"recipe\")"
   ]
  },
  {
   "cell_type": "markdown",
   "id": "12c0f76a-f129-4d4d-a662-cac8a72f6ecb",
   "metadata": {},
   "source": [
    "##### simple query show recipe names based on rate (4-4.5)"
   ]
  },
  {
   "cell_type": "code",
   "execution_count": 11,
   "id": "bb9eb4c3-792c-45cb-832a-30dc87728681",
   "metadata": {},
   "outputs": [
    {
     "name": "stdout",
     "output_type": "stream",
     "text": [
      "Potato Bacon Pizza\n",
      "Reuben Sandwich I\n",
      "Cranberry Pork Chops II\n",
      "Zucchini Noodles and Summer Vegetables with Sweet Pepper Chicken Sausage\n",
      "Fresh Balsamic Chicken Salad\n",
      "Hearty Chili\n",
      "Tater Tot Casserole III\n",
      "Slow Cooker Veggie-Beef Soup with Okra\n",
      "Red Wine Braised Short Ribs with Rosemary\n",
      "Nanny's Goulash\n"
     ]
    }
   ],
   "source": [
    "s= Search(using = client, index = \"recipe\")  \\\n",
    "        .filter('range', aver_rate = {'gte': 4.0, 'lte': 4.5}) \n",
    "\n",
    "response = s.execute() \n",
    "\n",
    "for hit in response:\n",
    "    print(hit.recipe_name)"
   ]
  },
  {
   "cell_type": "markdown",
   "id": "5e60c208-5edd-48ca-aa18-bca3d2754a79",
   "metadata": {},
   "source": [
    "### Flask interactive output"
   ]
  },
  {
   "cell_type": "markdown",
   "id": "b2fb6de6-5b04-42ec-ad99-ab8f473d75ab",
   "metadata": {},
   "source": [
    "##### Test trial"
   ]
  },
  {
   "cell_type": "code",
   "execution_count": 93,
   "id": "c7c095ae-26a8-4947-9abb-274cc648aee5",
   "metadata": {},
   "outputs": [],
   "source": [
    "app = Flask(\"project\")\n",
    "\n",
    "def rate_value(x):\n",
    "        if x == '1-2':\n",
    "            return [1.00,2.00]\n",
    "        elif x == '2-3':  \n",
    "            return [2.00,3.00]\n",
    "        elif x == '3-4':\n",
    "            return [3.00,4.00]\n",
    "        elif x == '4-5':\n",
    "            return [4.00,5.00]\n",
    "        else:\n",
    "            return [0.00,1.00]\n",
    "\n",
    "def calory_value(x):\n",
    "        if x == '150-300':\n",
    "            return [150.00,300.00]\n",
    "        elif x == '300-450':\n",
    "            return [300.00,450.00]\n",
    "        elif x == '<150':\n",
    "            return [0.00,150.00]\n",
    "        elif x == '>450':\n",
    "            return [450.00,1000.00]\n",
    "\n",
    "def fat_value(x):\n",
    "        if x == '5-15':\n",
    "            return [5.00,15.00]\n",
    "        elif x == '15-25':\n",
    "            return [15.00,25.00]\n",
    "        elif x == '<5':\n",
    "            return [0.00,5.00]\n",
    "        elif x == '>25':\n",
    "            return [25.00,500.00]\n",
    "\n",
    "def sugar_value(x):\n",
    "        if x == '3-6':\n",
    "            return [3.00,6.00]\n",
    "        elif x == '6-15':\n",
    "            return [6.00,15.00]\n",
    "        elif x == '<3':\n",
    "            return [0.00,3.00]\n",
    "        elif x == '>15':\n",
    "            return [15.00,100.00]\n",
    "\n",
    "def sodium_value(x):\n",
    "        if x == '100-300':\n",
    "            return [100.00,300.00]\n",
    "        elif x == '300-700':\n",
    "            return [300.00,700.00]\n",
    "        elif x == '<100':\n",
    "            return [0.00,100.00]\n",
    "        elif x == '>700':\n",
    "            return [700.00,2000.00]\n",
    "\n",
    "def calcium_value(x):\n",
    "        if x == '25-60':\n",
    "            return [25.00,60.00]\n",
    "        elif x == '60-120':\n",
    "            return [60.00,120.00]\n",
    "        elif x == '<25':\n",
    "            return [0.00,25.00]\n",
    "        elif x == '>120':\n",
    "            return [120.00,500.00]\n",
    "\n",
    "def protein_value(x):\n",
    "        if x == '3-10':\n",
    "            return [3.00,10.00]\n",
    "        elif x == '10-20':\n",
    "            return [10.00,20.00]\n",
    "        elif x == '<3':\n",
    "            return [0.00,3.00]\n",
    "        elif x == '>20':\n",
    "            return [20.00,500.00]\n",
    "        \n",
    "\n",
    "@app.route('/', methods=['GET', 'POST'])\n",
    "def recipe_search():\n",
    "    if request.method == \"POST\":\n",
    "        #variables\n",
    "        ingredient = str(request.form.get('ingredient'))\n",
    "        rate = str(request.form.get('aver_rate'))\n",
    "        calory = str(request.form.get('Calories-kcal'))\n",
    "        fat = str(request.form.get('Fat-g'))\n",
    "        sugar = str(request.form.get('Sugars-g'))\n",
    "        sodium = str(request.form.get('Sodium-mg'))\n",
    "        calcium = str(request.form.get('Calcium-mg'))\n",
    "        protein = str(request.form.get('Protein-g'))\n",
    "        \n",
    "        res = queryData(ingredient)\n",
    "        s = Search(using = client, index = \"recipe\")  \\\n",
    "        .filter('terms', recipe_id = res) \\\n",
    "        .filter('range', aver_rate = {'gte': rate_value(rate)[0], 'lte': rate_value(rate)[1]}) \\\n",
    "        .filter('range', Calories_kcal = {'gte': calory_value(calory)[0], 'lte': calory_value(calory)[1]}) \\\n",
    "        .filter('range', Calcium_mg = {'gte':calcium_value(calcium)[0], 'lte':calcium_value(calcium)[1]}) \\\n",
    "        .filter('range', Fat_g = {'gte': fat_value(fat)[0], 'lte': fat_value(fat)[1]}) \\\n",
    "        .filter('range', Protein_g = {'gte':protein_value(protein)[0], 'lte': protein_value(protein)[1]}) \\\n",
    "        .filter('range', Sodium_mg = {'gte': sodium_value(sodium)[0], 'lte': sodium_value(sodium)[1]}) \\\n",
    "        .filter('range', Sugars_g = {'gte': sugar_value(sugar)[0], 'lte': rate_value(sugar)[1]}) \\\n",
    "        .sort({'aver_rate': {'order': 'desc'}})\n",
    "        \n",
    "        response = s.execute()\n",
    "        \n",
    "        if len(response['hits']['hits']) != 0:\n",
    "            for hit in response['hits']['hits']:\n",
    "                name = hit['_source']['recipe_name']\n",
    "                direction = hit['_source']['Directions']\n",
    "                cook = hit['_source']['Cook']\n",
    "                image = hit['_source']['image_url']\n",
    "                calories_kcal = hit['_source']['Calories_kcal']\n",
    "                calcium_mg = hit['_source']['Calcium_mg']\n",
    "                fat_g = hit['_source']['Fat_g']\n",
    "                protein_g = hit['_source']['Protein_g']\n",
    "                sodium_mg = hit['_source']['Sodium_mg']\n",
    "                sugars_g = hit['_source']['Sugars_g']\n",
    "                aver_rate = hit['_source']['aver_rate']\n",
    "            return \"Recipe name: \"+name+\". Directions: \"+direction+\". Cook time: \"+cook+ \\\n",
    "                    \". Calgories_kcal: \"+str(calories_kcal)+\". Calcium_mg: \"+str(calcium_mg)+\". Fat_g:\"+str(fat_g)+ \\\n",
    "                    \". Protein_g: \"+str(protein_g)+\". Sodium_mg: \"+str(sodium_mg)+\". Sugars_g: \"+str(sugars_g)+ \\\n",
    "                    \". Rate: \"+str(aver_rate)+\". Image url: \"+image\n",
    "        else :\n",
    "            return \"No result. \"\n",
    "    \n",
    "    return render_template('Index.html')\n",
    "\n",
    "## flask can only return one hit "
   ]
  },
  {
   "cell_type": "code",
   "execution_count": 94,
   "id": "e4989263-9bd2-4d35-b8fa-006c1c517b35",
   "metadata": {},
   "outputs": [
    {
     "name": "stdout",
     "output_type": "stream",
     "text": [
      " * Serving Flask app \"project\" (lazy loading)\n",
      " * Environment: production\n",
      "\u001b[31m   WARNING: This is a development server. Do not use it in a production deployment.\u001b[0m\n",
      "\u001b[2m   Use a production WSGI server instead.\u001b[0m\n",
      " * Debug mode: off\n"
     ]
    },
    {
     "name": "stderr",
     "output_type": "stream",
     "text": [
      " * Running on http://localhost:5003/ (Press CTRL+C to quit)\n",
      "127.0.0.1 - - [30/Apr/2022 16:43:27] \"GET / HTTP/1.1\" 200 -\n",
      "127.0.0.1 - - [30/Apr/2022 16:43:35] \"POST / HTTP/1.1\" 200 -\n"
     ]
    }
   ],
   "source": [
    "app.run(host='localhost', port=5003)"
   ]
  },
  {
   "cell_type": "markdown",
   "id": "ac109c00-7ea3-469d-9d36-3087b28fddfc",
   "metadata": {},
   "source": [
    "##### with output format"
   ]
  },
  {
   "cell_type": "code",
   "execution_count": 98,
   "id": "e56a9b3d-02c7-4ac7-9d71-59bd84f640df",
   "metadata": {},
   "outputs": [],
   "source": [
    "app = Flask(\"project\")\n",
    "\n",
    "def rate_value(x):\n",
    "        if x == '1-2':\n",
    "            return [1.00,2.00]\n",
    "        elif x == '2-3':  \n",
    "            return [2.00,3.00]\n",
    "        elif x == '3-4':\n",
    "            return [3.00,4.00]\n",
    "        elif x == '4-5':\n",
    "            return [4.00,5.00]\n",
    "        else:\n",
    "            return [0.00,1.00]\n",
    "\n",
    "def calory_value(x):\n",
    "        if x == '150-300':\n",
    "            return [150.00,300.00]\n",
    "        elif x == '300-450':\n",
    "            return [300.00,450.00]\n",
    "        elif x == '<150':\n",
    "            return [0.00,150.00]\n",
    "        elif x == '>450':\n",
    "            return [450.00,1000.00]\n",
    "\n",
    "def fat_value(x):\n",
    "        if x == '5-15':\n",
    "            return [5.00,15.00]\n",
    "        elif x == '15-25':\n",
    "            return [15.00,25.00]\n",
    "        elif x == '<5':\n",
    "            return [0.00,5.00]\n",
    "        elif x == '>25':\n",
    "            return [25.00,500.00]\n",
    "\n",
    "def sugar_value(x):\n",
    "        if x == '3-6':\n",
    "            return [3.00,6.00]\n",
    "        elif x == '6-15':\n",
    "            return [6.00,15.00]\n",
    "        elif x == '<3':\n",
    "            return [0.00,3.00]\n",
    "        elif x == '>15':\n",
    "            return [15.00,100.00]\n",
    "\n",
    "def sodium_value(x):\n",
    "        if x == '100-300':\n",
    "            return [100.00,300.00]\n",
    "        elif x == '300-700':\n",
    "            return [300.00,700.00]\n",
    "        elif x == '<100':\n",
    "            return [0.00,100.00]\n",
    "        elif x == '>700':\n",
    "            return [700.00,2000.00]\n",
    "\n",
    "def calcium_value(x):\n",
    "        if x == '25-60':\n",
    "            return [25.00,60.00]\n",
    "        elif x == '60-120':\n",
    "            return [60.00,120.00]\n",
    "        elif x == '<25':\n",
    "            return [0.00,25.00]\n",
    "        elif x == '>120':\n",
    "            return [120.00,500.00]\n",
    "\n",
    "def protein_value(x):\n",
    "        if x == '3-10':\n",
    "            return [3.00,10.00]\n",
    "        elif x == '10-20':\n",
    "            return [10.00,20.00]\n",
    "        elif x == '<3':\n",
    "            return [0.00,3.00]\n",
    "        elif x == '>20':\n",
    "            return [20.00,500.00]\n",
    "\n",
    "@app.route('/', methods=['GET', 'POST'])\n",
    "def home():\n",
    "    if request.method == \"POST\":\n",
    "        ingredient = str(request.form.get('ingredient'))\n",
    "        rate = str(request.form.get('aver_rate'))\n",
    "        calory = str(request.form.get('Calories-kcal'))\n",
    "        fat = str(request.form.get('Fat-g'))\n",
    "        sugar = str(request.form.get('Sugars-g'))\n",
    "        sodium = str(request.form.get('Sodium-mg'))\n",
    "        calcium = str(request.form.get('Calcium-mg'))\n",
    "        protein = str(request.form.get('Protein-g'))\n",
    "        \n",
    "        res = queryData(ingredient)\n",
    "        s = Search(using = client, index = \"recipe\")  \\\n",
    "        .filter('terms', recipe_id = res) \\\n",
    "        .filter('range', aver_rate = {'gte': rate_value(rate)[0], 'lte': rate_value(rate)[1]}) \\\n",
    "        .filter('range', Calories_kcal = {'gte': calory_value(calory)[0], 'lte': calory_value(calory)[1]}) \\\n",
    "        .filter('range', Calcium_mg = {'gte':calcium_value(calcium)[0], 'lte':calcium_value(calcium)[1]}) \\\n",
    "        .filter('range', Fat_g = {'gte': fat_value(fat)[0], 'lte': fat_value(fat)[1]}) \\\n",
    "        .filter('range', Protein_g = {'gte':protein_value(protein)[0], 'lte': protein_value(protein)[1]}) \\\n",
    "        .filter('range', Sodium_mg = {'gte': sodium_value(sodium)[0], 'lte': sodium_value(sodium)[1]}) \\\n",
    "        .filter('range', Sugars_g = {'gte': sugar_value(sugar)[0], 'lte': rate_value(sugar)[1]}) \\\n",
    "        .sort({'aver_rate': {'order': 'desc'}})\n",
    "        \n",
    "        response = s.execute()\n",
    "        \n",
    "\n",
    "        recipe_name = [hit.recipe_name for hit in response]\n",
    "        directions = [hit.Directions for hit in response]\n",
    "        cook = [hit.Cook for hit in response]\n",
    "        rate = [hit.aver_rate for hit in response]\n",
    "        calories_kcal = [hit.Calories_kcal for hit in response]\n",
    "        calcium_mg = [hit.Calcium_mg for hit in response]\n",
    "        fat_g = [hit.Fat_g for hit in response]\n",
    "        protein_g = [hit.Protein_g for hit in response]\n",
    "        sodium_mg = [hit.Sodium_mg for hit in response]\n",
    "        sugars_g = [hit.Sugars_g for hit in response]\n",
    "        image = [hit.image_url for hit in response]\n",
    "        \n",
    "        recipes = pd.DataFrame(list(zip(recipe_name, directions, cook, rate, calories_kcal, calcium_mg, fat_g, protein_g, sodium_mg, sugars_g, image)), \n",
    "                              columns = ['recipe_name', 'Directions','Cook','aver_rate','calories_kcal','calcium_mg','fat_g','protein_g','sodium_mg','sugars_g','image_url'])\n",
    "\n",
    "    \n",
    "    return render_template('home.html', recipe_name = recipe_name, directions = directions, cook = cook, rate = rate, calories_kcal = calories_kcal, \n",
    "                          calcium_mg = calcium_mg, fat_g = fat_g, protein_g = protein_g, sodium_mg = sodium_mg, sugars_g = sugars_g, image = image)\n",
    "\n",
    "\n"
   ]
  },
  {
   "cell_type": "code",
   "execution_count": 97,
   "id": "653a9d96-76c1-46fa-a126-b177bbba8cab",
   "metadata": {},
   "outputs": [
    {
     "name": "stdout",
     "output_type": "stream",
     "text": [
      " * Serving Flask app \"project\" (lazy loading)\n",
      " * Environment: production\n",
      "\u001b[31m   WARNING: This is a development server. Do not use it in a production deployment.\u001b[0m\n",
      "\u001b[2m   Use a production WSGI server instead.\u001b[0m\n",
      " * Debug mode: off\n"
     ]
    },
    {
     "name": "stderr",
     "output_type": "stream",
     "text": [
      " * Running on http://localhost:5004/ (Press CTRL+C to quit)\n"
     ]
    }
   ],
   "source": [
    "app.run(host='localhost', port=5004)"
   ]
  },
  {
   "cell_type": "code",
   "execution_count": null,
   "id": "3f3e8335-4991-478f-8599-cdc8737195ef",
   "metadata": {},
   "outputs": [],
   "source": []
  }
 ],
 "metadata": {
  "kernelspec": {
   "display_name": "Python 3 (ipykernel)",
   "language": "python",
   "name": "python3"
  },
  "language_info": {
   "codemirror_mode": {
    "name": "ipython",
    "version": 3
   },
   "file_extension": ".py",
   "mimetype": "text/x-python",
   "name": "python",
   "nbconvert_exporter": "python",
   "pygments_lexer": "ipython3",
   "version": "3.9.7"
  }
 },
 "nbformat": 4,
 "nbformat_minor": 5
}
